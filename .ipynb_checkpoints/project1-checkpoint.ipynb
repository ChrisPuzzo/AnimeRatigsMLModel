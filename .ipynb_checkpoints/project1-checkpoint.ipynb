{
 "cells": [
  {
   "cell_type": "markdown",
   "id": "87b6b04d-99fe-4b8b-a4ee-aee96b4f52a3",
   "metadata": {},
   "source": [
    "Importation of panda and numpy, then displaying the top 5 things on the dataset, along with other general information about the dataset (shape, column names)"
   ]
  },
  {
   "cell_type": "code",
   "execution_count": 1,
   "id": "37ba3323-ee5e-420c-8b48-dd37bba8d71a",
   "metadata": {},
   "outputs": [
    {
     "data": {
      "text/html": [
       "<div>\n",
       "<style scoped>\n",
       "    .dataframe tbody tr th:only-of-type {\n",
       "        vertical-align: middle;\n",
       "    }\n",
       "\n",
       "    .dataframe tbody tr th {\n",
       "        vertical-align: top;\n",
       "    }\n",
       "\n",
       "    .dataframe thead th {\n",
       "        text-align: right;\n",
       "    }\n",
       "</style>\n",
       "<table border=\"1\" class=\"dataframe\">\n",
       "  <thead>\n",
       "    <tr style=\"text-align: right;\">\n",
       "      <th></th>\n",
       "      <th>anime_id</th>\n",
       "      <th>name</th>\n",
       "      <th>genre</th>\n",
       "      <th>type</th>\n",
       "      <th>episodes</th>\n",
       "      <th>rating</th>\n",
       "      <th>members</th>\n",
       "    </tr>\n",
       "  </thead>\n",
       "  <tbody>\n",
       "    <tr>\n",
       "      <th>0</th>\n",
       "      <td>32281</td>\n",
       "      <td>Kimi no Na wa.</td>\n",
       "      <td>Drama, Romance, School, Supernatural</td>\n",
       "      <td>Movie</td>\n",
       "      <td>1</td>\n",
       "      <td>9.37</td>\n",
       "      <td>200630</td>\n",
       "    </tr>\n",
       "    <tr>\n",
       "      <th>1</th>\n",
       "      <td>5114</td>\n",
       "      <td>Fullmetal Alchemist: Brotherhood</td>\n",
       "      <td>Action, Adventure, Drama, Fantasy, Magic, Mili...</td>\n",
       "      <td>TV</td>\n",
       "      <td>64</td>\n",
       "      <td>9.26</td>\n",
       "      <td>793665</td>\n",
       "    </tr>\n",
       "    <tr>\n",
       "      <th>2</th>\n",
       "      <td>28977</td>\n",
       "      <td>Gintama°</td>\n",
       "      <td>Action, Comedy, Historical, Parody, Samurai, S...</td>\n",
       "      <td>TV</td>\n",
       "      <td>51</td>\n",
       "      <td>9.25</td>\n",
       "      <td>114262</td>\n",
       "    </tr>\n",
       "    <tr>\n",
       "      <th>3</th>\n",
       "      <td>9253</td>\n",
       "      <td>Steins;Gate</td>\n",
       "      <td>Sci-Fi, Thriller</td>\n",
       "      <td>TV</td>\n",
       "      <td>24</td>\n",
       "      <td>9.17</td>\n",
       "      <td>673572</td>\n",
       "    </tr>\n",
       "    <tr>\n",
       "      <th>4</th>\n",
       "      <td>9969</td>\n",
       "      <td>Gintama&amp;#039;</td>\n",
       "      <td>Action, Comedy, Historical, Parody, Samurai, S...</td>\n",
       "      <td>TV</td>\n",
       "      <td>51</td>\n",
       "      <td>9.16</td>\n",
       "      <td>151266</td>\n",
       "    </tr>\n",
       "  </tbody>\n",
       "</table>\n",
       "</div>"
      ],
      "text/plain": [
       "   anime_id                              name  \\\n",
       "0     32281                    Kimi no Na wa.   \n",
       "1      5114  Fullmetal Alchemist: Brotherhood   \n",
       "2     28977                          Gintama°   \n",
       "3      9253                       Steins;Gate   \n",
       "4      9969                     Gintama&#039;   \n",
       "\n",
       "                                               genre   type episodes  rating  \\\n",
       "0               Drama, Romance, School, Supernatural  Movie        1    9.37   \n",
       "1  Action, Adventure, Drama, Fantasy, Magic, Mili...     TV       64    9.26   \n",
       "2  Action, Comedy, Historical, Parody, Samurai, S...     TV       51    9.25   \n",
       "3                                   Sci-Fi, Thriller     TV       24    9.17   \n",
       "4  Action, Comedy, Historical, Parody, Samurai, S...     TV       51    9.16   \n",
       "\n",
       "   members  \n",
       "0   200630  \n",
       "1   793665  \n",
       "2   114262  \n",
       "3   673572  \n",
       "4   151266  "
      ]
     },
     "execution_count": 1,
     "metadata": {},
     "output_type": "execute_result"
    }
   ],
   "source": [
    "import pandas as pd\n",
    "import numpy as np\n",
    "\n",
    "df = pd.read_csv(\"data/anime.csv\")\n",
    "df.head()"
   ]
  },
  {
   "cell_type": "code",
   "execution_count": 2,
   "id": "69226d84-63ff-4434-b5ab-3e9a4077d201",
   "metadata": {},
   "outputs": [
    {
     "data": {
      "text/plain": [
       "(12294, 7)"
      ]
     },
     "execution_count": 2,
     "metadata": {},
     "output_type": "execute_result"
    }
   ],
   "source": [
    "df.shape"
   ]
  },
  {
   "cell_type": "markdown",
   "id": "331d7ed8-feb0-4547-ad4b-3b345a92a671",
   "metadata": {},
   "source": [
    "Look to see what columns there are and eliminate any rows with Null data."
   ]
  },
  {
   "cell_type": "code",
   "execution_count": 3,
   "id": "f0854546-f6d8-4bdc-a78d-73da07332c5b",
   "metadata": {},
   "outputs": [
    {
     "name": "stdout",
     "output_type": "stream",
     "text": [
      "Index(['anime_id', 'name', 'genre', 'type', 'episodes', 'rating', 'members'], dtype='object')\n",
      "anime_id      0\n",
      "name          0\n",
      "genre        62\n",
      "type         25\n",
      "episodes      0\n",
      "rating      230\n",
      "members       0\n",
      "dtype: int64\n",
      "anime_id    0\n",
      "name        0\n",
      "genre       0\n",
      "type        0\n",
      "episodes    0\n",
      "rating      0\n",
      "members     0\n",
      "dtype: int64\n"
     ]
    }
   ],
   "source": [
    "print(df.columns)\n",
    "print(df.isna().sum())\n",
    "nan_value = float(\"NaN\")\n",
    "df.replace(\"\", nan_value, inplace=True)\n",
    "\n",
    "for items in df:\n",
    "    df.dropna(subset=[items],inplace=True)\n",
    "\n",
    "print(df.isna().sum())    "
   ]
  },
  {
   "cell_type": "markdown",
   "id": "1fc798db-540d-41cf-aa4a-7326481abee0",
   "metadata": {},
   "source": [
    "Set the prediction target as rating and seperate it from the other features of this dataset"
   ]
  },
  {
   "cell_type": "code",
   "execution_count": 4,
   "id": "b18a05bb-ae7c-4743-912b-5e06483f8d66",
   "metadata": {},
   "outputs": [],
   "source": [
    "model_features = df.columns.drop('rating')\n",
    "model_target = 'rating'"
   ]
  },
  {
   "cell_type": "markdown",
   "id": "5e232abc-e556-406c-a89b-44c0d75991fd",
   "metadata": {},
   "source": [
    "Seperate the model_features data into numerical data and catigorical data"
   ]
  },
  {
   "cell_type": "code",
   "execution_count": 5,
   "id": "b11310b2-3b0e-48a8-ab4a-367f1db35cd3",
   "metadata": {},
   "outputs": [
    {
     "name": "stdout",
     "output_type": "stream",
     "text": [
      "Numerical columns: Index(['anime_id', 'members'], dtype='object')\n",
      "\n",
      "Categorical columns: Index(['name', 'genre', 'type', 'episodes'], dtype='object')\n"
     ]
    }
   ],
   "source": [
    "import numpy as np\n",
    "numerical_features_all = df[model_features].select_dtypes(include=np.number).columns\n",
    "print('Numerical columns:',numerical_features_all)\n",
    "\n",
    "print('')\n",
    "\n",
    "categorical_features_all = df[model_features].select_dtypes(include='object').columns\n",
    "print('Categorical columns:',categorical_features_all)\n",
    "\n"
   ]
  },
  {
   "cell_type": "markdown",
   "id": "ac998fe1-e366-43f6-8e65-ecf274cbd796",
   "metadata": {},
   "source": [
    "Get a visual plot of several of the catigorical and numerical features to help us better visual the distribution of the dataset."
   ]
  },
  {
   "cell_type": "code",
   "execution_count": 6,
   "id": "1e3c05c6-6224-4bf5-98be-e62541978bd5",
   "metadata": {},
   "outputs": [
    {
     "name": "stdout",
     "output_type": "stream",
     "text": [
      "type\n"
     ]
    },
    {
     "data": {
      "image/png": "[encoded data removed]",
      "text/plain": [
       "<Figure size 432x288 with 1 Axes>"
      ]
     },
     "metadata": {
      "needs_background": "light"
     },
     "output_type": "display_data"
    }
   ],
   "source": [
    "import matplotlib.pyplot as plt\n",
    "%matplotlib inline\n",
    "for c in categorical_features_all:\n",
    "    if len(df[c].value_counts()) <= 10:\n",
    "        print(c)\n",
    "        df[c].value_counts().plot.bar()\n",
    "        plt.show()"
   ]
  },
  {
   "cell_type": "code",
   "execution_count": 7,
   "id": "3becd962-9ae5-484f-95ab-0cb8de3d009d",
   "metadata": {},
   "outputs": [
    {
     "name": "stdout",
     "output_type": "stream",
     "text": [
      "anime_id\n"
     ]
    },
    {
     "data": {
      "image/png": "[encoded data removed]",
      "text/plain": [
       "<Figure size 432x288 with 1 Axes>"
      ]
     },
     "metadata": {
      "needs_background": "light"
     },
     "output_type": "display_data"
    },
    {
     "name": "stdout",
     "output_type": "stream",
     "text": [
      "members\n"
     ]
    },
    {
     "data": {
      "image/png": "[encoded data removed]",
      "text/plain": [
       "<Figure size 432x288 with 1 Axes>"
      ]
     },
     "metadata": {
      "needs_background": "light"
     },
     "output_type": "display_data"
    }
   ],
   "source": [
    "import matplotlib.pyplot as plt\n",
    "%matplotlib inline\n",
    "\n",
    "for c in numerical_features_all:\n",
    "    print(c)\n",
    "    df[c].plot.hist(bins=5)\n",
    "    plt.show()"
   ]
  },
  {
   "cell_type": "code",
   "execution_count": 8,
   "id": "a1704318-c058-40b7-9b0b-f5a2fe3dbaaa",
   "metadata": {},
   "outputs": [
    {
     "data": {
      "text/plain": [
       "<AxesSubplot:>"
      ]
     },
     "execution_count": 8,
     "metadata": {},
     "output_type": "execute_result"
    },
    {
     "data": {
      "image/png": "[encoded data removed]",
      "text/plain": [
       "<Figure size 432x288 with 2 Axes>"
      ]
     },
     "metadata": {
      "needs_background": "light"
     },
     "output_type": "display_data"
    }
   ],
   "source": [
    "import seaborn as sn\n",
    "cor = df.corr()\n",
    "sn.heatmap(cor, annot = True)"
   ]
  },
  {
   "cell_type": "markdown",
   "id": "89627498-05c4-4d78-9446-dbee1eee69ad",
   "metadata": {},
   "source": [
    "Import everything needed for the pipeline"
   ]
  },
  {
   "cell_type": "code",
   "execution_count": 9,
   "id": "0bbfe175-2e9e-4502-8e94-bf74f4b51fe1",
   "metadata": {},
   "outputs": [],
   "source": [
    "from sklearn.preprocessing import MinMaxScaler\n",
    "from sklearn.ensemble import RandomForestRegressor\n",
    "from sklearn.neighbors import KNeighborsRegressor\n",
    "from sklearn.metrics import classification_report\n",
    "from sklearn.metrics import accuracy_score\n",
    "from sklearn.pipeline import Pipeline\n",
    "from sklearn.impute import SimpleImputer\n",
    "from sklearn.preprocessing import OneHotEncoder"
   ]
  },
  {
   "cell_type": "code",
   "execution_count": 10,
   "id": "5771130d-e2a0-465a-8710-191a1ad586e7",
   "metadata": {},
   "outputs": [],
   "source": [
    "from sklearn.compose import ColumnTransformer\n",
    "numerical_processor = Pipeline([\n",
    "    ('num_imputer', SimpleImputer(strategy='mean')),\n",
    "    ('num_scaler', MinMaxScaler())\n",
    "])\n",
    "catigorical_processor = Pipeline([\n",
    "    ('cat_imputer', SimpleImputer(strategy='constant', fill_value='missing')),\n",
    "    ('cat_encoder', OneHotEncoder())\n",
    "])\n",
    "processor = ColumnTransformer([\n",
    "    ('num_processing', numerical_processor, numerical_features_all),\n",
    "    ('cat_processing', catigorical_processor, categorical_features_all)\n",
    "]) "
   ]
  },
  {
   "cell_type": "code",
   "execution_count": 11,
   "id": "b45348d7-277b-4e4d-bdff-890bc8da74f9",
   "metadata": {},
   "outputs": [],
   "source": [
    "\n",
    "rf_regressor = Pipeline([\n",
    "    ('processor', processor),\n",
    "    ('rf', RandomForestRegressor())])\n",
    "kn_regressor = Pipeline([\n",
    "    ('processor', processor),\n",
    "    ('kn', KNeighborsRegressor())])"
   ]
  },
  {
   "cell_type": "markdown",
   "id": "8a3ba568-b564-4dd3-afcd-a975a6fa87fc",
   "metadata": {},
   "source": [
    "create and fit the train data sets"
   ]
  },
  {
   "cell_type": "code",
   "execution_count": 12,
   "id": "193967fe-6f6c-4847-96ff-162f4fe74f52",
   "metadata": {},
   "outputs": [
    {
     "ename": "NameError",
     "evalue": "name 'regressor' is not defined",
     "output_type": "error",
     "traceback": [
      "\u001b[0;31m---------------------------------------------------------------------------\u001b[0m",
      "\u001b[0;31mNameError\u001b[0m                                 Traceback (most recent call last)",
      "Input \u001b[0;32mIn [12]\u001b[0m, in \u001b[0;36m<module>\u001b[0;34m\u001b[0m\n\u001b[1;32m      5\u001b[0m rf_regressor\u001b[38;5;241m.\u001b[39mfit(x_train, y_train)\n\u001b[1;32m      6\u001b[0m kn_regressor\u001b[38;5;241m.\u001b[39mfit(x_train,y_train)\n\u001b[0;32m----> 7\u001b[0m display(\u001b[43mregressor\u001b[49m)\n",
      "\u001b[0;31mNameError\u001b[0m: name 'regressor' is not defined"
     ]
    }
   ],
   "source": [
    "from sklearn.model_selection import train_test_split\n",
    "train_data, test_data = train_test_split(df, test_size=0.2, shuffle=True, random_state=42)\n",
    "x_train = train_data[model_features]\n",
    "y_train = train_data[model_target]\n",
    "rf_regressor.fit(x_train, y_train)\n",
    "kn_regressor.fit(x_train,y_train)"
   ]
  },
  {
   "cell_type": "markdown",
   "id": "fa70556f-9e8a-41a5-a073-8eeea074fd8d",
   "metadata": {},
   "source": [
    "create and predict the test data set"
   ]
  },
  {
   "cell_type": "code",
   "execution_count": null,
   "id": "cf3bfbbe-1ea8-48bc-b55c-abcfb5cd5e7e",
   "metadata": {},
   "outputs": [],
   "source": [
    "x_test = test_data[model_features]\n",
    "y_test = test_data[model_target]\n",
    "print('test')\n",
    "test_predictions = regressor.predict(x_test)"
   ]
  }
 ],
 "metadata": {
  "kernelspec": {
   "display_name": "test_env:Python",
   "language": "python",
   "name": "conda-env-test_env-py"
  },
  "language_info": {
   "codemirror_mode": {
    "name": "ipython",
    "version": 3
   },
   "file_extension": ".py",
   "mimetype": "text/x-python",
   "name": "python",
   "nbconvert_exporter": "python",
   "pygments_lexer": "ipython3",
   "version": "3.9.10"
  }
 },
 "nbformat": 4,
 "nbformat_minor": 5
}
